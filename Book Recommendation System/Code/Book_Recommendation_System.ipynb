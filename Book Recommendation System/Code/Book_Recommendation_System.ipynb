{
 "cells": [
  {
   "cell_type": "markdown",
   "id": "decf75ce-93fd-48aa-9c10-574cc980d675",
   "metadata": {},
   "source": [
    "# 📚 Book Recommendation System\n",
    "\n",
    "**Project Owner**: Suyog Desai  \n",
    "**Affiliation**: Arizona State University  \n",
    "**Project Description**:  \n",
    "This notebook demonstrates a collaborative filtering approach to build a simple book recommendation engine. It uses user-book rating data, constructs a sparse matrix, and generates recommendations using user similarity.\n",
    "\n",
    "---\n"
   ]
  },
  {
   "cell_type": "markdown",
   "id": "c5864422-b4ee-4174-b721-556262a0629a",
   "metadata": {},
   "source": [
    "##  Step 1: Import Libraries\n",
    "\n",
    "We begin by importing the necessary libraries for data handling, sparse matrix manipulation, and similarity computation."
   ]
  },
  {
   "cell_type": "code",
   "execution_count": 2,
   "id": "7c648fe5",
   "metadata": {},
   "outputs": [],
   "source": [
    "import pandas as pd\n",
    "import numpy as np\n",
    "from scipy.sparse import coo_matrix\n",
    "from sklearn.metrics.pairwise import cosine_similarity"
   ]
  },
  {
   "cell_type": "markdown",
   "id": "82b995f6-80cf-4f89-9a43-8338e2b15637",
   "metadata": {},
   "source": [
    "##  Step 2: Load and Preprocess Ratings Data\n",
    "\n",
    "We load the book ratings dataset, sort it, and factorize user and book IDs to create a matrix-friendly representation. This prepares our data for matrix-based operations."
   ]
  },
  {
   "cell_type": "code",
   "execution_count": 4,
   "id": "bdb828b4",
   "metadata": {},
   "outputs": [],
   "source": [
    "# Load ratings data\n",
    "ratings_path = '../Source/Ratings.csv'\n",
    "df = pd.read_csv(ratings_path, delimiter=';')\n",
    "\n",
    "# Sort for consistency\n",
    "df = df.sort_values(by=['User-ID', 'ISBN'])\n",
    "\n",
    "# Factorize user and book IDs for matrix representation\n",
    "df['User_ID'] = pd.factorize(df['User-ID'])[0]\n",
    "df['Book_ID'] = pd.factorize(df['ISBN'])[0]\n",
    "\n",
    "# Create sparse matrix components\n",
    "row = df['User_ID']\n",
    "col = df['Book_ID']\n",
    "data = df['Rating']\n",
    "\n",
    "# Construct sparse matrix (COO format)\n",
    "sparse_matrix = coo_matrix((data, (row, col)))"
   ]
  },
  {
   "cell_type": "markdown",
   "id": "34722b92-2d99-48a9-8345-6ceca4b0e950",
   "metadata": {},
   "source": [
    "##  Step 3: Save Sparse Matrix in LibSVM Format\n",
    "\n",
    "Convert the user-book rating matrix into a sparse format and export it using the LibSVM format for further analysis."
   ]
  },
  {
   "cell_type": "code",
   "execution_count": 6,
   "id": "4a303cc5",
   "metadata": {},
   "outputs": [
    {
     "name": "stdout",
     "output_type": "stream",
     "text": [
      "LibSVM file successfully created at: ../Output/user_book_sparse_matrix.libsvm\n"
     ]
    }
   ],
   "source": [
    "output_libsvm_path = '../Output/user_book_sparse_matrix.libsvm'\n",
    "\n",
    "with open(output_libsvm_path, 'w') as f:\n",
    "    for i in range(sparse_matrix.shape[0]):\n",
    "        row_data = sparse_matrix.getrow(i).toarray().flatten()\n",
    "        non_zero_indices = row_data.nonzero()[0]\n",
    "        line = '0 '  # LibSVM format label (dummy label)\n",
    "        for idx in non_zero_indices:\n",
    "            line += f'{idx + 1}:{row_data[idx]} '\n",
    "        f.write(line.strip() + '\\n')\n",
    "\n",
    "print(f\"LibSVM file successfully created at: {output_libsvm_path}\")"
   ]
  },
  {
   "cell_type": "markdown",
   "id": "95a7477a-c6d5-48e8-81ec-84aee51c36df",
   "metadata": {},
   "source": [
    "##  Step 4: Load Book Metadata\n",
    "\n",
    "We extract relevant book metadata (ISBN and title) to link recommended book IDs back to their human-readable titles later."
   ]
  },
  {
   "cell_type": "code",
   "execution_count": 8,
   "id": "cd145db6",
   "metadata": {},
   "outputs": [],
   "source": [
    "metadata_path = '../Source/Books.csv'\n",
    "meta = pd.read_csv(metadata_path, delimiter=';')\n",
    "meta = meta[['ISBN', 'Title']].dropna().reset_index(drop=True)\n",
    "\n",
    "# Mapping for ISBNs and titles\n",
    "id_to_isbn = {i: isbn for i, isbn in enumerate(meta['ISBN'])}\n",
    "isbn_to_title = dict(zip(meta['ISBN'], meta['Title']))"
   ]
  },
  {
   "cell_type": "markdown",
   "id": "84fb30b4-c84a-4d9a-afb5-66fde807457e",
   "metadata": {},
   "source": [
    "##  Step 5: Load Sparse Matrix from LibSVM\n",
    "\n",
    "We implement a function to reconstruct the sparse matrix from the LibSVM file saved earlier."
   ]
  },
  {
   "cell_type": "code",
   "execution_count": 10,
   "id": "c060b7f4",
   "metadata": {},
   "outputs": [],
   "source": [
    "def load_matrix(filepath):\n",
    "    data, rows, cols = [], [], []\n",
    "    with open(filepath, 'r') as f:\n",
    "        for i, line in enumerate(f):\n",
    "            for item in line.strip().split()[1:]:\n",
    "                col_id, val = map(float, item.split(':'))\n",
    "                rows.append(i)\n",
    "                cols.append(int(col_id) - 1)\n",
    "                data.append(val)\n",
    "    return coo_matrix((data, (rows, cols)))\n",
    "\n",
    "user_book_matrix = load_matrix(output_libsvm_path).tocsr()"
   ]
  },
  {
   "cell_type": "markdown",
   "id": "4e50f91c-ca55-4f38-bdd4-eedef5c8af8d",
   "metadata": {},
   "source": [
    "##  Step 6: User Similarity and Recommendation Functions\n",
    "\n",
    "These functions identify similar users using cosine similarity and recommend books based on their ratings.\n",
    "\n",
    "- `top_k_users`: Finds the top K most similar users to a target user.\n",
    "- `recommend`: Recommends books that similar users have liked, excluding books already rated by the target user."
   ]
  },
  {
   "cell_type": "code",
   "execution_count": 12,
   "id": "778d2e4b",
   "metadata": {},
   "outputs": [],
   "source": [
    "def top_k_users(uid, mat, k=10):\n",
    "    sim = cosine_similarity(mat[uid], mat)[0]\n",
    "    top_users = np.argsort(-sim)[1:k+1]  # Exclude self\n",
    "    return top_users, sim[top_users]\n",
    "\n",
    "def recommend(uid, mat, k=10, n=5):\n",
    "    if mat[uid].nnz == 0:\n",
    "        top_users, sim_scores = top_k_users(uid, mat, k)\n",
    "        books = {b for user in top_users for b in mat[user].nonzero()[1]}\n",
    "    else:\n",
    "        top_users, sim_scores = top_k_users(uid, mat, k)\n",
    "        books = {b for user in top_users for b in mat[user].nonzero()[1]}\n",
    "        books -= set(mat[uid].nonzero()[1])  # Exclude already rated\n",
    "\n",
    "    scores = {\n",
    "        b: sum(sim_scores[i] * mat[top_users[i], b] \n",
    "               for i in range(len(top_users)) if mat[top_users[i], b] > 0) / sum(sim_scores)\n",
    "        for b in books if sum(sim_scores) > 0\n",
    "    }\n",
    "    return sorted(scores.items(), key=lambda x: -x[1])[:n]"
   ]
  },
  {
   "cell_type": "markdown",
   "id": "fd39dfda-a625-4e25-b70c-9e28af73862d",
   "metadata": {},
   "source": [
    "##  Step 7: Generate Recommendations and Save to CSV\n",
    "\n",
    "We apply the recommendation function for each user and save the resulting book recommendations (along with scores and titles) to a CSV file."
   ]
  },
  {
   "cell_type": "code",
   "execution_count": 14,
   "id": "ad7576ef",
   "metadata": {},
   "outputs": [],
   "source": [
    "def make_recs(mat, meta, output_csv, k=10, n=5):\n",
    "    recs = []\n",
    "    for uid in range(mat.shape[0]):\n",
    "        rec_books = recommend(uid, mat, k, n)\n",
    "        for book, score in rec_books:\n",
    "            isbn = id_to_isbn.get(book, \"Unknown\")\n",
    "            title = isbn_to_title.get(isbn, \"Unknown\")\n",
    "            recs.append({\n",
    "                'User_ID': uid + 1,\n",
    "                'Book_ID': book + 1,\n",
    "                'Title': title,\n",
    "                'Score': score\n",
    "            })\n",
    "\n",
    "    pd.DataFrame(recs).to_csv(output_csv, index=False, columns=['User_ID', 'Book_ID', 'Title', 'Score'])\n",
    "    print(f\"Recommendations saved to {output_csv}\")"
   ]
  },
  {
   "cell_type": "markdown",
   "id": "bb5641f5-52e7-4660-9871-bf66f76daa9a",
   "metadata": {},
   "source": [
    "##  Step 8: Run Recommendation Pipeline\n",
    "\n",
    "This final step triggers the recommendation generation process and stores the output in a file."
   ]
  },
  {
   "cell_type": "code",
   "execution_count": 16,
   "id": "81608c20",
   "metadata": {},
   "outputs": [
    {
     "name": "stdout",
     "output_type": "stream",
     "text": [
      "Recommendations saved to ../Output/Book-recommendations.csv\n"
     ]
    }
   ],
   "source": [
    "recommendation_output_path = '../Output/Book-recommendations.csv'\n",
    "make_recs(user_book_matrix, meta, recommendation_output_path)"
   ]
  }
 ],
 "metadata": {
  "kernelspec": {
   "display_name": "Python 3 (ipykernel)",
   "language": "python",
   "name": "python3"
  },
  "language_info": {
   "codemirror_mode": {
    "name": "ipython",
    "version": 3
   },
   "file_extension": ".py",
   "mimetype": "text/x-python",
   "name": "python",
   "nbconvert_exporter": "python",
   "pygments_lexer": "ipython3",
   "version": "3.12.4"
  }
 },
 "nbformat": 4,
 "nbformat_minor": 5
}
